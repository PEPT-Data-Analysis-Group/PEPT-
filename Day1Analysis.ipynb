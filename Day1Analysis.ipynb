{
 "cells": [
  {
   "cell_type": "code",
   "execution_count": null,
   "metadata": {},
   "outputs": [],
   "source": [
    "import matplotlib.pyplot as plt"
   ]
  },
  {
   "cell_type": "code",
   "execution_count": null,
   "metadata": {},
   "outputs": [],
   "source": [
    "\n",
    "def plot_trajectory(filename : str, title : str):\n",
    "    \n",
    "    trajectory = []\n",
    "\n",
    "    with open(\"data/\" + filename + \".a\") as file:\n",
    "        for l, line, in enumerate(file):\n",
    "            if l >= 10:\n",
    "                trajectory.append(line.split()[1:4])\n",
    "    \n",
    "    fig=plt.figure(figsize=(8, 8))\n",
    "    ax=fig.add_subplot(projection='3d')\n",
    "    \n",
    "    ax.plot(\n",
    "        [ float(x[0]) for x in trajectory[0:50000]],\n",
    "        [ float(x[2]) for x in trajectory[0:50000]],\n",
    "        [-float(x[1]) for x in trajectory[0:50000]])\n",
    "    \n",
    "    plt.xlabel(\"xaxis\")\n",
    "    plt.ylabel(\"yaxis\")\n",
    "    plt.title(title)\n",
    "    ax.set_zlabel(\"zaxis\")\n",
    "    ax.set_zbound(lower=0, upper=110)\n",
    "    plt.show()\n"
   ]
  },
  {
   "cell_type": "code",
   "execution_count": null,
   "metadata": {},
   "outputs": [],
   "source": [
    "plot_trajectory(\"m0_12V\", \"Trajectory of particle at 12V\")\n"
   ]
  }
 ],
 "metadata": {
  "kernelspec": {
   "display_name": "base",
   "language": "python",
   "name": "python3"
  },
  "language_info": {
   "codemirror_mode": {
    "name": "ipython",
    "version": 3
   },
   "file_extension": ".py",
   "mimetype": "text/x-python",
   "name": "python",
   "nbconvert_exporter": "python",
   "pygments_lexer": "ipython3",
   "version": "3.11.4"
  }
 },
 "nbformat": 4,
 "nbformat_minor": 2
}
