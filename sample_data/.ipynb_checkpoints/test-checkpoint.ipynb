{
 "cells": [
  {
   "cell_type": "markdown",
   "metadata": {},
   "source": [
    "# THIS IS A TEST NOTEBOOK"
   ]
  },
  {
   "cell_type": "code",
   "execution_count": 22,
   "metadata": {},
   "outputs": [],
   "source": [
    "import pandas as pd\n",
    "import numpy as np\n",
    "from vpython import *\n",
    "import matplotlib.pyplot as plt\n",
    "from matplotlib.animation import FuncAnimation"
   ]
  },
  {
   "cell_type": "code",
   "execution_count": 23,
   "metadata": {},
   "outputs": [
    {
     "name": "stdout",
     "output_type": "stream",
     "text": [
      "              t      x      y    z  u(p)  0.0  0.00  fN-used\n",
      "0           6.4 -150.3 -138.2 -7.9   3.1  0.0   0.0    125.0\n",
      "1          11.1 -149.9 -138.4 -8.3   3.3  0.0   0.0    125.0\n",
      "2          15.4 -150.2 -138.4 -8.7   3.8  0.0   0.0    125.0\n",
      "3          19.8 -149.4 -138.2 -8.8   3.4  0.0   0.0    125.0\n",
      "4          24.1 -149.3 -137.4 -9.1   3.5  0.0   0.0    125.0\n",
      "...         ...    ...    ...  ...   ...  ...   ...      ...\n",
      "70715  299967.1 -149.5 -138.1 -8.5   2.8  0.0   0.0    125.0\n",
      "70716  299971.7 -149.6 -138.5 -8.3   3.2  0.0   0.0    125.0\n",
      "70717  299975.8 -149.7 -138.6 -8.9   3.1  0.0   0.0    125.0\n",
      "70718  299980.3 -149.3 -138.7 -8.6   3.1  0.0   0.0    125.0\n",
      "70719  299984.7 -149.8 -138.4 -8.4   3.2  0.0   0.0    125.0\n",
      "\n",
      "[70720 rows x 8 columns]\n"
     ]
    }
   ],
   "source": [
    "\"\"\"Convert the .a file to a pandas dataframe\n",
    "\"\"\"\n",
    "\n",
    "data = {\n",
    "    \"t\": [],\n",
    "    \"x\": [],\n",
    "    \"y\": [],\n",
    "    \"z\": [],\n",
    "    \"u(p)\": [],\n",
    "    \"0.0\": [],\n",
    "    \"0.00\": [],\n",
    "    \"fN-used\": []\n",
    "}\n",
    "\n",
    "f = open(\"CPbl.a\", \"r\")\n",
    "headerLen = 10\n",
    "for l, line in enumerate(f):  # Add the dataset into the \"data\" directory      \n",
    "        if l >= headerLen:         \n",
    "            part = line.split()\n",
    "            data[\"t\"].append(float(part[0]))\n",
    "            data[\"x\"].append(float(part[1]))\n",
    "            data[\"y\"].append(float(part[2]))\n",
    "            data[\"z\"].append(float(part[3]))\n",
    "            data[\"u(p)\"].append(float(part[4]))\n",
    "            data[\"0.0\"].append(float(part[5]))\n",
    "            data[\"0.00\"].append(float(part[6]))\n",
    "            data[\"fN-used\"].append(float(part[7]))\n",
    "\n",
    "for d in data:\n",
    "    data[d] = np.array(data[d])\n",
    "\n",
    "df = pd.DataFrame(data)\n",
    "print(df)"
   ]
  },
  {
   "cell_type": "code",
   "execution_count": 24,
   "metadata": {},
   "outputs": [
    {
     "data": {
      "text/html": [
       "<div id=\"glowscript\" class=\"glowscript\"></div>"
      ],
      "text/plain": [
       "<IPython.core.display.HTML object>"
      ]
     },
     "metadata": {},
     "output_type": "display_data"
    },
    {
     "data": {
      "application/javascript": "if (typeof Jupyter !== \"undefined\") { window.__context = { glowscript_container: $(\"#glowscript\").removeAttr(\"id\")};}else{ element.textContent = ' ';}",
      "text/plain": [
       "<IPython.core.display.Javascript object>"
      ]
     },
     "metadata": {},
     "output_type": "display_data"
    },
    {
     "data": {
      "text/html": [
       "<div id=\"glowscript\" class=\"glowscript\"></div>"
      ],
      "text/plain": [
       "<IPython.core.display.HTML object>"
      ]
     },
     "metadata": {},
     "output_type": "display_data"
    },
    {
     "data": {
      "application/javascript": "if (typeof Jupyter !== \"undefined\") { window.__context = { glowscript_container: $(\"#glowscript\").removeAttr(\"id\")};}else{ element.textContent = ' ';}",
      "text/plain": [
       "<IPython.core.display.Javascript object>"
      ]
     },
     "metadata": {},
     "output_type": "display_data"
    },
    {
     "ename": "AttributeError",
     "evalue": "module 'notebook' has no attribute 'nbextensions'",
     "output_type": "error",
     "traceback": [
      "\u001b[1;31m---------------------------------------------------------------------------\u001b[0m",
      "\u001b[1;31mAttributeError\u001b[0m                            Traceback (most recent call last)",
      "\u001b[1;32mc:\\Users\\mphak\\OneDrive - University of Cape Town\\PHY3004W\\Laboratory\\Lab 7\\PEPT-\\sample_data\\test.ipynb Cell 4\u001b[0m line \u001b[0;36m1\n\u001b[0;32m     <a href='vscode-notebook-cell:/c%3A/Users/mphak/OneDrive%20-%20University%20of%20Cape%20Town/PHY3004W/Laboratory/Lab%207/PEPT-/sample_data/test.ipynb#W3sZmlsZQ%3D%3D?line=9'>10</a>\u001b[0m scene\u001b[39m.\u001b[39mautoscale \u001b[39m=\u001b[39m \u001b[39mFalse\u001b[39;00m\n\u001b[0;32m     <a href='vscode-notebook-cell:/c%3A/Users/mphak/OneDrive%20-%20University%20of%20Cape%20Town/PHY3004W/Laboratory/Lab%207/PEPT-/sample_data/test.ipynb#W3sZmlsZQ%3D%3D?line=12'>13</a>\u001b[0m \u001b[39m# Create a particle object\u001b[39;00m\n\u001b[1;32m---> <a href='vscode-notebook-cell:/c%3A/Users/mphak/OneDrive%20-%20University%20of%20Cape%20Town/PHY3004W/Laboratory/Lab%207/PEPT-/sample_data/test.ipynb#W3sZmlsZQ%3D%3D?line=13'>14</a>\u001b[0m particle \u001b[39m=\u001b[39m sphere(pos\u001b[39m=\u001b[39;49mvec(x_data[\u001b[39m0\u001b[39;49m], y_data[\u001b[39m0\u001b[39;49m], z_data[\u001b[39m0\u001b[39;49m]), radius\u001b[39m=\u001b[39;49m\u001b[39m0.1\u001b[39;49m, color\u001b[39m=\u001b[39;49mvec(\u001b[39m1\u001b[39;49m, \u001b[39m0\u001b[39;49m, \u001b[39m0\u001b[39;49m))\n\u001b[0;32m     <a href='vscode-notebook-cell:/c%3A/Users/mphak/OneDrive%20-%20University%20of%20Cape%20Town/PHY3004W/Laboratory/Lab%207/PEPT-/sample_data/test.ipynb#W3sZmlsZQ%3D%3D?line=15'>16</a>\u001b[0m \u001b[39m# Simulate the motion and update the particle's position\u001b[39;00m\n\u001b[0;32m     <a href='vscode-notebook-cell:/c%3A/Users/mphak/OneDrive%20-%20University%20of%20Cape%20Town/PHY3004W/Laboratory/Lab%207/PEPT-/sample_data/test.ipynb#W3sZmlsZQ%3D%3D?line=16'>17</a>\u001b[0m \u001b[39mfor\u001b[39;00m i \u001b[39min\u001b[39;00m \u001b[39mrange\u001b[39m(\u001b[39m1\u001b[39m, \u001b[39mlen\u001b[39m(time)):\n",
      "File \u001b[1;32mc:\\Users\\mphak\\OneDrive - University of Cape Town\\PHY3004W\\Laboratory\\Lab 7\\.venv\\Lib\\site-packages\\vpython\\vpython.py:1172\u001b[0m, in \u001b[0;36msphere.__init__\u001b[1;34m(self, **args)\u001b[0m\n\u001b[0;32m   1170\u001b[0m args[\u001b[39m'\u001b[39m\u001b[39m_default_size\u001b[39m\u001b[39m'\u001b[39m] \u001b[39m=\u001b[39m vector(\u001b[39m2\u001b[39m,\u001b[39m2\u001b[39m,\u001b[39m2\u001b[39m)\n\u001b[0;32m   1171\u001b[0m args[\u001b[39m'\u001b[39m\u001b[39m_objName\u001b[39m\u001b[39m'\u001b[39m] \u001b[39m=\u001b[39m \u001b[39m\"\u001b[39m\u001b[39msphere\u001b[39m\u001b[39m\"\u001b[39m\n\u001b[1;32m-> 1172\u001b[0m \u001b[39msuper\u001b[39;49m(sphere, \u001b[39mself\u001b[39;49m)\u001b[39m.\u001b[39;49msetup(args)\n\u001b[0;32m   1173\u001b[0m \u001b[39mself\u001b[39m\u001b[39m.\u001b[39m_sizing \u001b[39m=\u001b[39m \u001b[39mFalse\u001b[39;00m\n",
      "File \u001b[1;32mc:\\Users\\mphak\\OneDrive - University of Cape Town\\PHY3004W\\Laboratory\\Lab 7\\.venv\\Lib\\site-packages\\vpython\\vpython.py:599\u001b[0m, in \u001b[0;36mstandardAttributes.setup\u001b[1;34m(self, args)\u001b[0m\n\u001b[0;32m    598\u001b[0m \u001b[39mdef\u001b[39;00m \u001b[39msetup\u001b[39m(\u001b[39mself\u001b[39m, args):\n\u001b[1;32m--> 599\u001b[0m     \u001b[39msuper\u001b[39;49m(standardAttributes, \u001b[39mself\u001b[39;49m)\u001b[39m.\u001b[39;49m\u001b[39m__init__\u001b[39;49m()\n\u001b[0;32m    600\u001b[0m     \u001b[39mself\u001b[39m\u001b[39m.\u001b[39m_constructing \u001b[39m=\u001b[39m \u001b[39mTrue\u001b[39;00m  \u001b[39m## calls to setters are from constructor\u001b[39;00m\n\u001b[0;32m    602\u001b[0m     objName \u001b[39m=\u001b[39m \u001b[39mself\u001b[39m\u001b[39m.\u001b[39m_objName \u001b[39m=\u001b[39m args[\u001b[39m'\u001b[39m\u001b[39m_objName\u001b[39m\u001b[39m'\u001b[39m]  \u001b[39m## identifies object type\u001b[39;00m\n",
      "File \u001b[1;32mc:\\Users\\mphak\\OneDrive - University of Cape Town\\PHY3004W\\Laboratory\\Lab 7\\.venv\\Lib\\site-packages\\vpython\\vpython.py:257\u001b[0m, in \u001b[0;36mbaseObj.__init__\u001b[1;34m(self, **kwargs)\u001b[0m\n\u001b[0;32m    254\u001b[0m \u001b[39mif\u001b[39;00m \u001b[39mnot\u001b[39;00m (baseObj\u001b[39m.\u001b[39m_view_constructed \u001b[39mor\u001b[39;00m\n\u001b[0;32m    255\u001b[0m         baseObj\u001b[39m.\u001b[39m_canvas_constructing):\n\u001b[0;32m    256\u001b[0m     \u001b[39mif\u001b[39;00m _isnotebook:\n\u001b[1;32m--> 257\u001b[0m         \u001b[39mfrom\u001b[39;00m \u001b[39m.\u001b[39;00m\u001b[39mwith_notebook\u001b[39;00m \u001b[39mimport\u001b[39;00m _\n\u001b[0;32m    258\u001b[0m     \u001b[39melse\u001b[39;00m:\n\u001b[0;32m    259\u001b[0m         \u001b[39mfrom\u001b[39;00m \u001b[39m.\u001b[39;00m\u001b[39mno_notebook\u001b[39;00m \u001b[39mimport\u001b[39;00m _\n",
      "File \u001b[1;32mc:\\Users\\mphak\\OneDrive - University of Cape Town\\PHY3004W\\Laboratory\\Lab 7\\.venv\\Lib\\site-packages\\vpython\\with_notebook.py:80\u001b[0m\n\u001b[0;32m     77\u001b[0m         transfer \u001b[39m=\u001b[39m (v \u001b[39m!=\u001b[39m __version__) \u001b[39m# need not transfer files to nbextensions if correct version's files already there\u001b[39;00m\n\u001b[0;32m     79\u001b[0m \u001b[39mif\u001b[39;00m transfer:\n\u001b[1;32m---> 80\u001b[0m     notebook\u001b[39m.\u001b[39;49mnbextensions\u001b[39m.\u001b[39minstall_nbextension(path \u001b[39m=\u001b[39m package_dir\u001b[39m+\u001b[39m\u001b[39m\"\u001b[39m\u001b[39m/vpython_data\u001b[39m\u001b[39m\"\u001b[39m,overwrite \u001b[39m=\u001b[39m \u001b[39mTrue\u001b[39;00m,user \u001b[39m=\u001b[39m \u001b[39mTrue\u001b[39;00m,verbose \u001b[39m=\u001b[39m \u001b[39m0\u001b[39m)\n\u001b[0;32m     81\u001b[0m     notebook\u001b[39m.\u001b[39mnbextensions\u001b[39m.\u001b[39minstall_nbextension(path \u001b[39m=\u001b[39m package_dir\u001b[39m+\u001b[39m\u001b[39m\"\u001b[39m\u001b[39m/vpython_libraries\u001b[39m\u001b[39m\"\u001b[39m,overwrite \u001b[39m=\u001b[39m \u001b[39mTrue\u001b[39;00m,user \u001b[39m=\u001b[39m \u001b[39mTrue\u001b[39;00m,verbose \u001b[39m=\u001b[39m \u001b[39m0\u001b[39m)\n\u001b[0;32m     83\u001b[0m     \u001b[39m# Wait for files to be transferred to nbextensions:\u001b[39;00m\n",
      "\u001b[1;31mAttributeError\u001b[0m: module 'notebook' has no attribute 'nbextensions'"
     ]
    }
   ],
   "source": [
    "time = df[\"t\"]\n",
    "x_data = df[\"x\"]\n",
    "y_data = df[\"y\"]\n",
    "z_data = df[\"z\"]\n",
    "\n",
    "canvas(width=800, height=400)\n",
    "\n",
    "# Define the scene\n",
    "scene = canvas(title=\"Particle Motion Simulation\", background=vec(0.9, 0.9, 0.9))\n",
    "scene.autoscale = False\n",
    "\n",
    "\n",
    "# Create a particle object\n",
    "particle = sphere(pos=vec(x_data[0], y_data[0], z_data[0]), radius=0.1, color=vec(1, 0, 0))\n",
    "\n",
    "# Simulate the motion and update the particle's position\n",
    "for i in range(1, len(time)):\n",
    "    rate(10)  # Adjust the rate for visualization speed\n",
    "    dt = time[i] - time[i - 1]\n",
    "    x_new = x_data[i]\n",
    "    y_new = y_data[i]\n",
    "    z_new = z_data[i]\n",
    "    particle.pos = vec(x_new, y_new, z_new)\n"
   ]
  }
 ],
 "metadata": {
  "kernelspec": {
   "display_name": "base",
   "language": "python",
   "name": "python3"
  },
  "language_info": {
   "codemirror_mode": {
    "name": "ipython",
    "version": 3
   },
   "file_extension": ".py",
   "mimetype": "text/x-python",
   "name": "python",
   "nbconvert_exporter": "python",
   "pygments_lexer": "ipython3",
   "version": "3.11.6"
  },
  "orig_nbformat": 4
 },
 "nbformat": 4,
 "nbformat_minor": 2
}
